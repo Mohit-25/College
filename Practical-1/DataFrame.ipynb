{
 "cells": [
  {
   "cell_type": "code",
   "execution_count": 1,
   "metadata": {},
   "outputs": [
    {
     "data": {
      "text/html": [
       "<div>\n",
       "<style scoped>\n",
       "    .dataframe tbody tr th:only-of-type {\n",
       "        vertical-align: middle;\n",
       "    }\n",
       "\n",
       "    .dataframe tbody tr th {\n",
       "        vertical-align: top;\n",
       "    }\n",
       "\n",
       "    .dataframe thead th {\n",
       "        text-align: right;\n",
       "    }\n",
       "</style>\n",
       "<table border=\"1\" class=\"dataframe\">\n",
       "  <thead>\n",
       "    <tr style=\"text-align: right;\">\n",
       "      <th></th>\n",
       "      <th>Name</th>\n",
       "      <th>Age</th>\n",
       "    </tr>\n",
       "  </thead>\n",
       "  <tbody>\n",
       "    <tr>\n",
       "      <th>0</th>\n",
       "      <td>jobs</td>\n",
       "      <td>28.0</td>\n",
       "    </tr>\n",
       "    <tr>\n",
       "      <th>1</th>\n",
       "      <td>gates</td>\n",
       "      <td>34.0</td>\n",
       "    </tr>\n",
       "    <tr>\n",
       "      <th>2</th>\n",
       "      <td>musk</td>\n",
       "      <td>29.0</td>\n",
       "    </tr>\n",
       "    <tr>\n",
       "      <th>3</th>\n",
       "      <td>mark</td>\n",
       "      <td>42.0</td>\n",
       "    </tr>\n",
       "  </tbody>\n",
       "</table>\n",
       "</div>"
      ],
      "text/plain": [
       "    Name   Age\n",
       "0   jobs  28.0\n",
       "1  gates  34.0\n",
       "2   musk  29.0\n",
       "3   mark  42.0"
      ]
     },
     "execution_count": 1,
     "metadata": {},
     "output_type": "execute_result"
    }
   ],
   "source": [
    "# Creating dataframe using list and dictionary\n",
    "import pandas as pd\n",
    "data = {'Name':['jobs', 'gates', 'musk', 'mark'],'Age':[28,34,29,42]}\n",
    "df1 = pd.DataFrame(data,dtype=float)\n",
    "df1"
   ]
  },
  {
   "cell_type": "code",
   "execution_count": 2,
   "metadata": {},
   "outputs": [
    {
     "data": {
      "text/html": [
       "<div>\n",
       "<style scoped>\n",
       "    .dataframe tbody tr th:only-of-type {\n",
       "        vertical-align: middle;\n",
       "    }\n",
       "\n",
       "    .dataframe tbody tr th {\n",
       "        vertical-align: top;\n",
       "    }\n",
       "\n",
       "    .dataframe thead th {\n",
       "        text-align: right;\n",
       "    }\n",
       "</style>\n",
       "<table border=\"1\" class=\"dataframe\">\n",
       "  <thead>\n",
       "    <tr style=\"text-align: right;\">\n",
       "      <th></th>\n",
       "      <th>Name</th>\n",
       "      <th>Age</th>\n",
       "    </tr>\n",
       "  </thead>\n",
       "  <tbody>\n",
       "    <tr>\n",
       "      <th>student1</th>\n",
       "      <td>Tom</td>\n",
       "      <td>28</td>\n",
       "    </tr>\n",
       "    <tr>\n",
       "      <th>student2</th>\n",
       "      <td>Jack</td>\n",
       "      <td>34</td>\n",
       "    </tr>\n",
       "    <tr>\n",
       "      <th>student3</th>\n",
       "      <td>Steve</td>\n",
       "      <td>29</td>\n",
       "    </tr>\n",
       "    <tr>\n",
       "      <th>student4</th>\n",
       "      <td>Ricky</td>\n",
       "      <td>42</td>\n",
       "    </tr>\n",
       "  </tbody>\n",
       "</table>\n",
       "</div>"
      ],
      "text/plain": [
       "           Name  Age\n",
       "student1    Tom   28\n",
       "student2   Jack   34\n",
       "student3  Steve   29\n",
       "student4  Ricky   42"
      ]
     },
     "execution_count": 2,
     "metadata": {},
     "output_type": "execute_result"
    }
   ],
   "source": [
    "# give indexing to df\n",
    "data = {'Name':['Tom', 'Jack', 'Steve', 'Ricky'],'Age':[28,34,29,42]}\n",
    "df2 = pd.DataFrame(data,index=['student1','student2','student3','student4'])\n",
    "df2"
   ]
  },
  {
   "cell_type": "code",
   "execution_count": 3,
   "metadata": {},
   "outputs": [
    {
     "name": "stdout",
     "output_type": "stream",
     "text": [
      "         x   w\n",
      "rank1  yen NaN\n",
      "rank2  men NaN\n",
      "rank3  pen NaN\n",
      "          y    z\n",
      "rank4  kush  100\n",
      "rank5  ansh  100\n",
      "rank6   pop  100\n"
     ]
    }
   ],
   "source": [
    "# row indices and column indices\n",
    "l = [{'x': 'yen', 'y': 'kush', 'z': 100},\n",
    "     {'x': 'men', 'y': 'ansh', 'z': 100},\n",
    "     {'x': 'pen', 'y':'pop','z': 100}\n",
    "     ]\n",
    "\n",
    "df3=pd.DataFrame(l,index=['rank1','rank2','rank3'],columns=['x','w'])\n",
    "df4=pd.DataFrame(l,index=['rank4','rank5','rank6'],columns=['y','z'])\n",
    "\n",
    "print(df3)\n",
    "print(df4)"
   ]
  },
  {
   "cell_type": "code",
   "execution_count": 4,
   "metadata": {},
   "outputs": [
    {
     "name": "stdout",
     "output_type": "stream",
     "text": [
      "    x   y     z\n",
      "0  10  25  good\n",
      "1  20  47  good\n",
      "2  30  88  good\n",
      "      z   y   x\n",
      "1  good  25  10\n",
      "2  good  47  20\n",
      "3  good  88  30\n"
     ]
    }
   ],
   "source": [
    "import numpy as np\n",
    "d = {'x': [10, 20, 30], 'y': np.array([25, 47, 88]),'z': 'good' }\n",
    "m=pd.DataFrame(d)\n",
    "print(m)\n",
    "\n",
    "m2=pd.DataFrame(d, index=[1, 2, 3], columns=['z','y','x'])\n",
    "print(m2)"
   ]
  },
  {
   "cell_type": "code",
   "execution_count": 5,
   "metadata": {},
   "outputs": [
    {
     "name": "stdout",
     "output_type": "stream",
     "text": [
      "      z   y   x  x+y\n",
      "1  good  25  10   35\n",
      "2  good  47  20   67\n",
      "3  good  88  30  118\n",
      "    y   x  x+y\n",
      "1  25  10   35\n",
      "2  47  20   67\n",
      "3  88  30  118\n"
     ]
    }
   ],
   "source": [
    "# Adding a new column using the existing columns in DataFrame\n",
    "m2['x+y']= m2['x']+ m2['y']\n",
    "print(m2)\n",
    "\n",
    "#Column Deletion\n",
    "\n",
    "del m2['z']\n",
    "print(m2)"
   ]
  },
  {
   "cell_type": "code",
   "execution_count": 6,
   "metadata": {},
   "outputs": [
    {
     "name": "stdout",
     "output_type": "stream",
     "text": [
      "       name         city  age  py-score\n",
      "101  Xavier  Mexico City   41      88.0\n",
      "102     Ann      Toronto   28      79.0\n",
      "103    Jana       Prague   33      81.0\n",
      "104      Yi     Shanghai   34      80.0\n",
      "105   Robin   Manchester   38      68.0\n",
      "106    Amal        Cairo   31      61.0\n",
      "107    Nori        Osaka   37      84.0\n"
     ]
    }
   ],
   "source": [
    "info ={\n",
    "     'name': ['Xavier', 'Ann', 'Jana', 'Yi', 'Robin', 'Amal', 'Nori'],\n",
    "     'city': ['Mexico City', 'Toronto', 'Prague', 'Shanghai',\n",
    "              'Manchester', 'Cairo', 'Osaka'],\n",
    "     'age': [41, 28, 33, 34, 38, 31, 37],\n",
    "     'py-score': [88.0, 79.0, 81.0, 80.0, 68.0, 61.0, 84.0]\n",
    "}\n",
    "\n",
    "row_labels = [101, 102, 103, 104, 105, 106, 107]\n",
    "\n",
    "\n",
    "df = pd.DataFrame(data=info, index=row_labels)\n",
    "print(df)"
   ]
  },
  {
   "cell_type": "code",
   "execution_count": 7,
   "metadata": {},
   "outputs": [
    {
     "name": "stdout",
     "output_type": "stream",
     "text": [
      "       name         city  age  py-score\n",
      "101  Xavier  Mexico City   41      88.0\n",
      "102     Ann      Toronto   28      79.0\n",
      "     name   city  age  py-score\n",
      "106  Amal  Cairo   31      61.0\n",
      "107  Nori  Osaka   37      84.0\n"
     ]
    }
   ],
   "source": [
    "print(df.head(n=2))\n",
    "print(df.tail(n=2))"
   ]
  },
  {
   "cell_type": "code",
   "execution_count": 8,
   "metadata": {},
   "outputs": [
    {
     "name": "stdout",
     "output_type": "stream",
     "text": [
      "101    Mexico City\n",
      "102        Toronto\n",
      "103         Prague\n",
      "104       Shanghai\n",
      "105     Manchester\n",
      "106          Cairo\n",
      "107          Osaka\n",
      "Name: city, dtype: object\n",
      "name          Jana\n",
      "city        Prague\n",
      "age             33\n",
      "py-score        81\n",
      "Name: 103, dtype: object\n"
     ]
    }
   ],
   "source": [
    "cities = df['city']\n",
    "print(cities)\n",
    "cities[102]\n",
    "\n",
    "print(df.loc[103]) #Row Selection"
   ]
  },
  {
   "cell_type": "code",
   "execution_count": 9,
   "metadata": {},
   "outputs": [
    {
     "name": "stdout",
     "output_type": "stream",
     "text": [
      "(7, 4)\n",
      "Index(['name', 'city', 'age', 'py-score'], dtype='object')\n"
     ]
    }
   ],
   "source": [
    "print(df.shape) # give shape\n",
    "print(df.columns)  # show columns in df"
   ]
  },
  {
   "cell_type": "code",
   "execution_count": 10,
   "metadata": {},
   "outputs": [
    {
     "name": "stdout",
     "output_type": "stream",
     "text": [
      "101    Xavier\n",
      "102       Ann\n",
      "103      Jana\n",
      "104        Yi\n",
      "105     Robin\n",
      "106      Amal\n",
      "107      Nori\n",
      "Name: name, dtype: object\n",
      "28\n",
      "41\n"
     ]
    }
   ],
   "source": [
    "print(df['name'])  # show 'name' column\n",
    "print(df['age'].min()) # minimum age\n",
    "print(df['age'].max()) # maximum age"
   ]
  },
  {
   "cell_type": "code",
   "execution_count": 11,
   "metadata": {},
   "outputs": [
    {
     "name": "stdout",
     "output_type": "stream",
     "text": [
      "             age   py-score\n",
      "count   7.000000   7.000000\n",
      "mean   34.571429  77.285714\n",
      "std     4.429339   9.446592\n",
      "min    28.000000  61.000000\n",
      "25%    32.000000  73.500000\n",
      "50%    34.000000  80.000000\n",
      "75%    37.500000  82.500000\n",
      "max    41.000000  88.000000\n",
      "101    True\n",
      "102    True\n",
      "103    True\n",
      "104    True\n",
      "105    True\n",
      "106    True\n",
      "107    True\n",
      "Name: age, dtype: bool\n",
      "     name     city  age  py-score\n",
      "102   Ann  Toronto   28      79.0\n",
      "103  Jana   Prague   33      81.0\n",
      "       name         city  age  py-score\n",
      "101  Xavier  Mexico City   41      88.0\n",
      "102     Ann      Toronto   28      79.0\n",
      "103    Jana       Prague   33      81.0\n",
      "104      Yi     Shanghai   34      80.0\n",
      "106    Amal        Cairo   31      61.0\n",
      "107    Nori        Osaka   37      84.0\n"
     ]
    }
   ],
   "source": [
    "print(df.describe())\n",
    "print(df.age>10)\n",
    "print(df.iloc[1:3]) #Select raw from index 1 to 2\n",
    "df1 = df.drop(105) # Drop rows with label 0\n",
    "print(df1) "
   ]
  },
  {
   "cell_type": "code",
   "execution_count": 12,
   "metadata": {},
   "outputs": [
    {
     "name": "stdout",
     "output_type": "stream",
     "text": [
      "         a   b     c\n",
      "first    1   2   NaN\n",
      "second   5  10  20.0\n",
      "third    3   4   NaN\n",
      "fourth  15  20  35.0\n"
     ]
    }
   ],
   "source": [
    "# Addition of Rows\n",
    "data = [{'a': 1, 'b': 2},{'a': 5, 'b': 10, 'c': 20}]\n",
    "data2= [{'a':3 ,'b': 4},{'a': 15, 'b': 20, 'c': 35}]\n",
    "\n",
    "df3 = pd.DataFrame(data, index=['first', 'second'])\n",
    "df4=pd.DataFrame(data2,index=['third','fourth'])\n",
    "\n",
    "df3=df3.append(df4)\n",
    "print(df3)"
   ]
  },
  {
   "cell_type": "code",
   "execution_count": null,
   "metadata": {},
   "outputs": [],
   "source": []
  }
 ],
 "metadata": {
  "kernelspec": {
   "display_name": "Python 3",
   "language": "python",
   "name": "python3"
  },
  "language_info": {
   "codemirror_mode": {
    "name": "ipython",
    "version": 3
   },
   "file_extension": ".py",
   "mimetype": "text/x-python",
   "name": "python",
   "nbconvert_exporter": "python",
   "pygments_lexer": "ipython3",
   "version": "3.8.3"
  }
 },
 "nbformat": 4,
 "nbformat_minor": 4
}
