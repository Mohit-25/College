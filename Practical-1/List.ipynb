{
 "cells": [
  {
   "cell_type": "code",
   "execution_count": 2,
   "metadata": {},
   "outputs": [
    {
     "name": "stdout",
     "output_type": "stream",
     "text": [
      "['a']\n",
      "6\n",
      "Mohit\n"
     ]
    }
   ],
   "source": [
    "# empty list\n",
    "l = []\n",
    "\n",
    "# nested list\n",
    "l = [\"Mohit\", [8, 4, 6], ['a']]\n",
    "\n",
    "# List indexing\n",
    "print(l[2])\n",
    "print(l[1][2])\n",
    "print(l[-3])"
   ]
  },
  {
   "cell_type": "code",
   "execution_count": 3,
   "metadata": {},
   "outputs": [
    {
     "name": "stdout",
     "output_type": "stream",
     "text": [
      "['o', 'h', 'i']\n",
      "['m', 'o']\n"
     ]
    }
   ],
   "source": [
    "# List slicing in Python\n",
    "my_list=['m','o','h','i','t']\n",
    "\n",
    "print(my_list[1:4])\n",
    "print(my_list[:-3])"
   ]
  },
  {
   "cell_type": "code",
   "execution_count": 4,
   "metadata": {},
   "outputs": [
    {
     "name": "stdout",
     "output_type": "stream",
     "text": [
      "[2, 4, 6, 8]\n"
     ]
    }
   ],
   "source": [
    "# Correcting mistake values in a list\n",
    "m = [2, 3, 9, 8]\n",
    "\n",
    "m[1:3]=[4,6]\n",
    "print(m)"
   ]
  },
  {
   "cell_type": "code",
   "execution_count": 5,
   "metadata": {},
   "outputs": [
    {
     "name": "stdout",
     "output_type": "stream",
     "text": [
      "[1, 3, 5, [7, 9]]\n",
      "[1, 3, 5, [7, 9], 11, 13, 15]\n"
     ]
    }
   ],
   "source": [
    "# Appending and Extending lists in Python\n",
    "m = [1, 3, 5]\n",
    "\n",
    "m.append([7,9])\n",
    "print(m)\n",
    "\n",
    "m.extend([11, 13, 15])\n",
    "print(m)"
   ]
  },
  {
   "cell_type": "code",
   "execution_count": 6,
   "metadata": {},
   "outputs": [
    {
     "name": "stdout",
     "output_type": "stream",
     "text": [
      "[50, 'Mohit', 'N', 12, 'Dobariya', '-', 25]\n",
      "['Good', 'Good', 'Good']\n"
     ]
    }
   ],
   "source": [
    "# Concatenating and repeating lists\n",
    "m= [50, 'Mohit', 'N',12]\n",
    "\n",
    "print(m + ['Dobariya', '-', 25])\n",
    "\n",
    "print([\"Good\"] * 3)"
   ]
  },
  {
   "cell_type": "code",
   "execution_count": 7,
   "metadata": {},
   "outputs": [
    {
     "name": "stdout",
     "output_type": "stream",
     "text": [
      "['narendra', 'modi', 2021, 2022]\n",
      "['narendra', 'modi', 5, 7, 2021, 2022]\n"
     ]
    }
   ],
   "source": [
    "# Demonstration of list insert() method\n",
    "l = ['narendra',2021,2022]\n",
    "\n",
    "l.insert(1,'modi')\n",
    "print(l)\n",
    "\n",
    "l[2:2] = [5, 7]\n",
    "print(l)"
   ]
  },
  {
   "cell_type": "code",
   "execution_count": 8,
   "metadata": {},
   "outputs": [
    {
     "name": "stdout",
     "output_type": "stream",
     "text": [
      "[1, 2, 3, 4]\n"
     ]
    }
   ],
   "source": [
    "# Deleting list items\n",
    "n=[1,2,3,4,'m''o','h','i','t']\n",
    "\n",
    "del n[4:]\n",
    "print(n)"
   ]
  },
  {
   "cell_type": "code",
   "execution_count": 9,
   "metadata": {},
   "outputs": [
    {
     "name": "stdout",
     "output_type": "stream",
     "text": [
      "['p', 'o', 'b', 'l', 'e', 'm']\n",
      "o\n",
      "['p', 'b', 'l', 'e', 'm']\n",
      "[]\n"
     ]
    }
   ],
   "source": [
    "# remove the element in list\n",
    "# clear the list\n",
    "\n",
    "m_list = ['p','r','o','b','l','e','m']\n",
    "\n",
    "m_list.remove('r')\n",
    "print(m_list)\n",
    "\n",
    "print(m_list.pop(1))\n",
    "print(m_list)\n",
    "\n",
    "m_list.clear()\n",
    "print(m_list)"
   ]
  },
  {
   "cell_type": "code",
   "execution_count": 10,
   "metadata": {},
   "outputs": [
    {
     "name": "stdout",
     "output_type": "stream",
     "text": [
      "['e', 'l', 'e', 'a', 'n', 't']\n",
      "['e', 'l', 'a', 'n', 't']\n"
     ]
    }
   ],
   "source": [
    "# delete items in list\n",
    "my_list = ['e','l','e','p','h','a','n','t']\n",
    "my_list[3:5] = []\n",
    "print(my_list)\n",
    "\n",
    "my_list[2:3] = []\n",
    "print(my_list)"
   ]
  },
  {
   "cell_type": "code",
   "execution_count": 11,
   "metadata": {},
   "outputs": [
    {
     "name": "stdout",
     "output_type": "stream",
     "text": [
      "3\n",
      "2\n",
      "[0, 1, 3, 4, 6, 8, 8]\n",
      "[8, 8, 6, 4, 3, 1, 0]\n"
     ]
    }
   ],
   "source": [
    "my_list = [3, 8, 1, 6, 0, 8, 4]\n",
    "\n",
    "print(my_list.index(6)) # find the index of given value\n",
    "print(my_list.count(8)) # count the element\n",
    "my_list.sort() # sorting the list\n",
    "\n",
    "print(my_list)\n",
    "\n",
    "my_list.reverse() # reverse the list\n",
    "\n",
    "print(my_list)"
   ]
  },
  {
   "cell_type": "code",
   "execution_count": 12,
   "metadata": {},
   "outputs": [
    {
     "name": "stdout",
     "output_type": "stream",
     "text": [
      "['Python Language', 'Python Programming', 'C Language', 'C Programming']\n",
      "[1, 2, 4, 8, 16, 32, 64, 128, 256, 512]\n"
     ]
    }
   ],
   "source": [
    "# List comprehension\n",
    "\n",
    "l=[x+y for x in ['Python ','C '] for y in ['Language','Programming']]\n",
    "print(l)\n",
    "\n",
    "power = [2 ** x for x in range(10)]\n",
    "print(power)"
   ]
  },
  {
   "cell_type": "code",
   "execution_count": 13,
   "metadata": {},
   "outputs": [
    {
     "name": "stdout",
     "output_type": "stream",
     "text": [
      "[18, 16, 14, 12, 10, 8, 6, 4, 2, 0]\n",
      "[0, 2, 4, 6, 8, 10, 12, 14, 16, 18]\n"
     ]
    }
   ],
   "source": [
    "add=[z*2 for z in range(10)]\n",
    "\n",
    "x=add\n",
    "y=add.copy()\n",
    "add.reverse()\n",
    "\n",
    "print(x) # x is changed when add is changed\n",
    "print(y) # y is not changed"
   ]
  },
  {
   "cell_type": "code",
   "execution_count": 14,
   "metadata": {},
   "outputs": [
    {
     "name": "stdout",
     "output_type": "stream",
     "text": [
      "I like apple\n",
      "I like banana\n",
      "I like mango\n"
     ]
    }
   ],
   "source": [
    "# Iterating Through a List\n",
    "\n",
    "for fruit in ['apple','banana','mango']:\n",
    "    print(\"I like\",fruit)"
   ]
  }
 ],
 "metadata": {
  "kernelspec": {
   "display_name": "Python 3",
   "language": "python",
   "name": "python3"
  },
  "language_info": {
   "codemirror_mode": {
    "name": "ipython",
    "version": 3
   },
   "file_extension": ".py",
   "mimetype": "text/x-python",
   "name": "python",
   "nbconvert_exporter": "python",
   "pygments_lexer": "ipython3",
   "version": "3.8.3"
  }
 },
 "nbformat": 4,
 "nbformat_minor": 4
}
